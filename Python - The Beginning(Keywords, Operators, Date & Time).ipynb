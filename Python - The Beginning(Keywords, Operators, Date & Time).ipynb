{
 "cells": [
  {
   "cell_type": "markdown",
   "metadata": {},
   "source": [
    "__WORKING WITH KEYWORDS__\n",
    "\n",
    "- Keyword is a special word which forms the vocabulary of the Python language. \n",
    "- It is a reserved word and cannot be used as an identifier.\n",
    "- Python has 31 keywords"
   ]
  },
  {
   "cell_type": "code",
   "execution_count": 2,
   "metadata": {},
   "outputs": [
    {
     "data": {
      "text/plain": [
       "['False',\n",
       " 'None',\n",
       " 'True',\n",
       " 'and',\n",
       " 'as',\n",
       " 'assert',\n",
       " 'break',\n",
       " 'class',\n",
       " 'continue',\n",
       " 'def',\n",
       " 'del',\n",
       " 'elif',\n",
       " 'else',\n",
       " 'except',\n",
       " 'finally',\n",
       " 'for',\n",
       " 'from',\n",
       " 'global',\n",
       " 'if',\n",
       " 'import',\n",
       " 'in',\n",
       " 'is',\n",
       " 'lambda',\n",
       " 'nonlocal',\n",
       " 'not',\n",
       " 'or',\n",
       " 'pass',\n",
       " 'raise',\n",
       " 'return',\n",
       " 'try',\n",
       " 'while',\n",
       " 'with',\n",
       " 'yield']"
      ]
     },
     "execution_count": 2,
     "metadata": {},
     "output_type": "execute_result"
    }
   ],
   "source": [
    "import keyword\n",
    "keyword.kwlist"
   ]
  },
  {
   "cell_type": "markdown",
   "metadata": {},
   "source": [
    "__WORKING WITH OPERATORS__\n",
    "- MATH OPERATORS"
   ]
  },
  {
   "cell_type": "code",
   "execution_count": 5,
   "metadata": {},
   "outputs": [
    {
     "name": "stdout",
     "output_type": "stream",
     "text": [
      "1.5384615384615385\n",
      "1\n",
      "0.65\n",
      "0\n",
      "0\n",
      "7\n",
      "13\n"
     ]
    }
   ],
   "source": [
    "x = 20\n",
    "y = 13\n",
    "print(x/y)\n",
    "print(x//y) \n",
    "print(y/x)\n",
    "print(int(y/x))\n",
    "print(y//x)\n",
    "print(x%y)\n",
    "print(y%x)"
   ]
  },
  {
   "cell_type": "markdown",
   "metadata": {},
   "source": [
    "- COMPARISON OPERATORS"
   ]
  },
  {
   "cell_type": "code",
   "execution_count": 10,
   "metadata": {},
   "outputs": [
    {
     "name": "stdout",
     "output_type": "stream",
     "text": [
      "False\n",
      "True\n",
      "False\n",
      "True\n",
      "False\n",
      "True\n"
     ]
    }
   ],
   "source": [
    "x =7\n",
    "y =13\n",
    "print(x>y)\n",
    "print(x<y) \n",
    "print(x==y) \n",
    "print(x!=y)\n",
    "print(x>=y)\n",
    "print(x<=y)\n"
   ]
  },
  {
   "cell_type": "code",
   "execution_count": 11,
   "metadata": {},
   "outputs": [
    {
     "name": "stdout",
     "output_type": "stream",
     "text": [
      "False\n",
      "True\n",
      "False\n",
      "False\n",
      "True\n"
     ]
    }
   ],
   "source": [
    "x =7\n",
    "y =11\n",
    "z = 16\n",
    "print(x>y>z)\n",
    "print(x<y<z) \n",
    "print(x==y==z) \n",
    "print(x>=y>=z)\n",
    "print(x<=y<=z)\n"
   ]
  },
  {
   "cell_type": "code",
   "execution_count": 12,
   "metadata": {},
   "outputs": [
    {
     "name": "stdout",
     "output_type": "stream",
     "text": [
      "False\n",
      "True\n",
      "False\n",
      "False\n",
      "True\n"
     ]
    }
   ],
   "source": [
    "a =7\n",
    "b =11\n",
    "c = 16\n",
    "d = 20\n",
    "print(a>b and c>d)\n",
    "print(a<b and c<d) \n",
    "print(a==b or c==d) \n",
    "print(a>=b and c>=d)\n",
    "print(a<=b or c<=d)\n"
   ]
  },
  {
   "cell_type": "markdown",
   "metadata": {},
   "source": [
    "- LOGICAL OPERATORS"
   ]
  },
  {
   "cell_type": "code",
   "execution_count": 14,
   "metadata": {},
   "outputs": [
    {
     "name": "stdout",
     "output_type": "stream",
     "text": [
      "True\n",
      "True\n",
      "False\n",
      "False\n"
     ]
    }
   ],
   "source": [
    "x = True\n",
    "y = True\n",
    "print(x and y)\n",
    "print(x or y)\n",
    "print(not x)\n",
    "print(not x and not y)\n"
   ]
  },
  {
   "cell_type": "code",
   "execution_count": 15,
   "metadata": {},
   "outputs": [
    {
     "name": "stdout",
     "output_type": "stream",
     "text": [
      "False\n",
      "True\n",
      "True\n"
     ]
    }
   ],
   "source": [
    "x = False\n",
    "y = True\n",
    "print(x and y)\n",
    "print(x or y)\n",
    "print(not x)\n"
   ]
  },
  {
   "cell_type": "markdown",
   "metadata": {},
   "source": [
    "- MEMBERSHIP OPERATORS"
   ]
  },
  {
   "cell_type": "code",
   "execution_count": 6,
   "metadata": {},
   "outputs": [
    {
     "name": "stdout",
     "output_type": "stream",
     "text": [
      "True\n",
      "True\n",
      "False\n",
      "True\n"
     ]
    }
   ],
   "source": [
    "x = 'Hello world'\n",
    "print('H' in x)\n",
    "print('Hello' in x)\n",
    "print('HELLO' in x)\n",
    "print('Hello world' in x)\n"
   ]
  },
  {
   "cell_type": "code",
   "execution_count": 7,
   "metadata": {},
   "outputs": [
    {
     "name": "stdout",
     "output_type": "stream",
     "text": [
      "False\n",
      "False\n",
      "True\n",
      "False\n"
     ]
    }
   ],
   "source": [
    "x = 'Hello world'\n",
    "print('H' not in x)\n",
    "print('Hello' not in x)\n",
    "print('HELLO' not in x)\n",
    "print('Hello world' not in x)\n"
   ]
  },
  {
   "cell_type": "markdown",
   "metadata": {},
   "source": [
    "__Working with print() function__"
   ]
  },
  {
   "cell_type": "code",
   "execution_count": 16,
   "metadata": {},
   "outputs": [
    {
     "name": "stdout",
     "output_type": "stream",
     "text": [
      "Hello World\n",
      "Hello World\n",
      "HelloWorld\n",
      "Hello*World\n"
     ]
    }
   ],
   "source": [
    "fn = \"Hello\"\n",
    "ln =\"World\"\n",
    "print(fn,ln)\n",
    "print(fn,ln, sep=' ')\n",
    "print(fn,ln, sep='')\n",
    "print(fn,ln, sep='*')\n"
   ]
  },
  {
   "cell_type": "code",
   "execution_count": 19,
   "metadata": {},
   "outputs": [
    {
     "name": "stdout",
     "output_type": "stream",
     "text": [
      "The value of x is 0.00\n",
      "The value of x is 0.0000\n",
      "The value of x is 0\n"
     ]
    }
   ],
   "source": [
    "X =12343.42\n",
    "print('The value of x is %0.2f'  %x)\n",
    "print('The value of x is %0.4f'  %x)\n",
    "print('The value of x is %d'  %x)\n"
   ]
  },
  {
   "cell_type": "code",
   "execution_count": 20,
   "metadata": {},
   "outputs": [
    {
     "name": "stdout",
     "output_type": "stream",
     "text": [
      "My age is 25\n"
     ]
    }
   ],
   "source": [
    "x=25\n",
    "print('My age is', x)\n"
   ]
  },
  {
   "cell_type": "code",
   "execution_count": 21,
   "metadata": {},
   "outputs": [
    {
     "name": "stdout",
     "output_type": "stream",
     "text": [
      "Hello Pune !, How are you?\n"
     ]
    }
   ],
   "source": [
    "print('Hello {name}, {question}'. format(name = 'Pune !', question = 'How are you?', ) )"
   ]
  },
  {
   "cell_type": "code",
   "execution_count": 22,
   "metadata": {},
   "outputs": [
    {
     "name": "stdout",
     "output_type": "stream",
     "text": [
      "I am good. Johny how are you\n"
     ]
    }
   ],
   "source": [
    "print('I am {0}. {1} how are {2}'.format('good','Johny','you'))"
   ]
  },
  {
   "cell_type": "markdown",
   "metadata": {},
   "source": [
    "__Working with strings__"
   ]
  },
  {
   "cell_type": "code",
   "execution_count": 24,
   "metadata": {},
   "outputs": [
    {
     "name": "stdout",
     "output_type": "stream",
     "text": [
      "HELLO WORLD\n",
      "hello world\n",
      "Hello world\n",
      "Hello World\n"
     ]
    }
   ],
   "source": [
    "x = \"Hello world\"\n",
    "print(x.upper())\n",
    "print(x.lower())\n",
    "print(x. capitalize())\n",
    "print(x.title())"
   ]
  },
  {
   "cell_type": "markdown",
   "metadata": {},
   "source": [
    "__Working with date & time__"
   ]
  },
  {
   "cell_type": "code",
   "execution_count": 25,
   "metadata": {},
   "outputs": [
    {
     "name": "stdout",
     "output_type": "stream",
     "text": [
      "Date and time  2020-01-04 16:10:00.776745\n",
      "Date  2020-01-04\n",
      "Year  2020\n",
      "Month  January\n",
      "Week number of the year  00\n",
      "Weekday of the week  6\n",
      "Day of year  004\n",
      "Day of the month  04\n",
      "Day of week  Saturday\n"
     ]
    }
   ],
   "source": [
    "import time \n",
    "import datetime \n",
    "print(\"Date and time \" , datetime.datetime.now()) \n",
    "print(\"Date \", datetime.date.today()) \n",
    "print(\"Year \", datetime.date.today().strftime(\"%Y\")) \n",
    "print(\"Month \", datetime.date.today().strftime(\"%B\")) \n",
    "print(\"Week number of the year \", datetime.date.today().strftime(\"%W\")) \n",
    "print(\"Weekday of the week \", datetime.date.today().strftime(\"%w\")) \n",
    "print(\"Day of year \", datetime.date.today().strftime(\"%j\")) \n",
    "print(\"Day of the month \", datetime.date.today().strftime(\"%d\")) \n",
    "print(\"Day of week \", datetime.date.today().strftime(\"%A\"))\n"
   ]
  },
  {
   "cell_type": "code",
   "execution_count": null,
   "metadata": {},
   "outputs": [],
   "source": []
  }
 ],
 "metadata": {
  "kernelspec": {
   "display_name": "Python 3",
   "language": "python",
   "name": "python3"
  },
  "language_info": {
   "codemirror_mode": {
    "name": "ipython",
    "version": 3
   },
   "file_extension": ".py",
   "mimetype": "text/x-python",
   "name": "python",
   "nbconvert_exporter": "python",
   "pygments_lexer": "ipython3",
   "version": "3.7.4"
  }
 },
 "nbformat": 4,
 "nbformat_minor": 2
}
