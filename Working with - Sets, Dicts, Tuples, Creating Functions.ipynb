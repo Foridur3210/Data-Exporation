{
 "cells": [
  {
   "cell_type": "code",
   "execution_count": 1,
   "metadata": {},
   "outputs": [
    {
     "name": "stdout",
     "output_type": "stream",
     "text": [
      "{1, 2, 3}\n",
      "{1, 2, 3}\n",
      "{'apple', 1, 3, 2.4}\n"
     ]
    }
   ],
   "source": [
    "s1={1,2,3}\n",
    "print(s1)\n",
    "s2={1,2,3,2,1,2}\n",
    "print(s2)\n",
    "s3={1,2.4,'apple',3}\n",
    "print(s3)"
   ]
  },
  {
   "cell_type": "code",
   "execution_count": 2,
   "metadata": {},
   "outputs": [
    {
     "name": "stdout",
     "output_type": "stream",
     "text": [
      "3\n"
     ]
    }
   ],
   "source": [
    "print(len(s2))"
   ]
  },
  {
   "cell_type": "code",
   "execution_count": 3,
   "metadata": {},
   "outputs": [
    {
     "name": "stdout",
     "output_type": "stream",
     "text": [
      "4\n"
     ]
    }
   ],
   "source": [
    "print(len(s3))"
   ]
  },
  {
   "cell_type": "code",
   "execution_count": 4,
   "metadata": {},
   "outputs": [
    {
     "name": "stdout",
     "output_type": "stream",
     "text": [
      "maximum value in: (1200, 147, 2.43, 1.12) is 1200\n",
      "maximum value in: (213, 100, 289) is 289\n"
     ]
    }
   ],
   "source": [
    "set1=(1200,147,2.43,1.12)\n",
    "set2=(213,100,289)\n",
    "print(\"maximum value in:\", set1,\"is\",max(set1))\n",
    "print(\"maximum value in:\", set2,\"is\",max(set2))"
   ]
  },
  {
   "cell_type": "code",
   "execution_count": 5,
   "metadata": {},
   "outputs": [
    {
     "name": "stdout",
     "output_type": "stream",
     "text": [
      "minimum value in: (1200, 147, 2.43, 1.12) is 1.12\n",
      "minimum value in: (213, 100, 289) is 100\n"
     ]
    }
   ],
   "source": [
    "set1=(1200,147,2.43,1.12)\n",
    "set2=(213,100,289)\n",
    "print(\"minimum value in:\", set1,\"is\",min(set1))\n",
    "print(\"minimum value in:\", set2,\"is\",min(set2))"
   ]
  },
  {
   "cell_type": "code",
   "execution_count": 57,
   "metadata": {},
   "outputs": [
    {
     "name": "stdout",
     "output_type": "stream",
     "text": [
      "maximum value in: [1200, 147, 2.43, 1.12] is 1200\n"
     ]
    }
   ],
   "source": [
    "set1=[1200,147,2.43,1.12]\n",
    "set2=(213,100,289)\n",
    "print(\"maximum value in:\",set1,\"is\",max(set1))"
   ]
  },
  {
   "cell_type": "code",
   "execution_count": 10,
   "metadata": {},
   "outputs": [
    {
     "name": "stdout",
     "output_type": "stream",
     "text": [
      "total value in: (1200, 147, 2.43, 1.12) is 1350.55\n",
      "total value in: (213, 100, 289) is 602\n"
     ]
    }
   ],
   "source": [
    "set1=(1200,147,2.43,1.12)\n",
    "set2=(213,100,289)\n",
    "print(\"total value in:\", set1,\"is\",sum(set1))\n",
    "print(\"total value in:\", set2,\"is\",sum(set2))"
   ]
  },
  {
   "cell_type": "code",
   "execution_count": 11,
   "metadata": {},
   "outputs": [
    {
     "name": "stdout",
     "output_type": "stream",
     "text": [
      "sorted value in: (1200, 147, 2.43, 1.12) is (1200, 147, 2.43, 1.12)\n",
      "sorted value in: [1.12, 2.43, 147, 1200] is [1.12, 2.43, 147, 1200]\n"
     ]
    }
   ],
   "source": [
    "#sorted set\n",
    "set1=(1200,147,2.43,1.12)\n",
    "set2=sorted(set1)\n",
    "print(\"sorted value in:\", set1,\"is\",set1)\n",
    "print(\"sorted value in:\", set2,\"is\",set2)"
   ]
  },
  {
   "cell_type": "code",
   "execution_count": 13,
   "metadata": {},
   "outputs": [
    {
     "name": "stdout",
     "output_type": "stream",
     "text": [
      "set before addition {8, 2, 3, 6}\n",
      "{8, 3, 6}\n"
     ]
    }
   ],
   "source": [
    "#set.remove(obj)\n",
    "set1={3,8,2,6}\n",
    "print(\"set before addition\",set1)\n",
    "set1.remove(2)\n",
    "print(set1)\n"
   ]
  },
  {
   "cell_type": "code",
   "execution_count": 16,
   "metadata": {},
   "outputs": [
    {
     "name": "stdout",
     "output_type": "stream",
     "text": [
      "set1 {1, 2, 3, 4}\n",
      "set2 {3, 4, 5}\n",
      "union of set 1&2 is : {1, 2, 3, 4, 5}\n"
     ]
    }
   ],
   "source": [
    "#union in python\n",
    "set1={1,2,3,4}\n",
    "print(\"set1\",set1)\n",
    "set2={3,4,5}\n",
    "print(\"set2\",set2)\n",
    "set3=set1.union(set2)\n",
    "print(\"union of set 1&2 is :\",set3)"
   ]
  },
  {
   "cell_type": "code",
   "execution_count": 18,
   "metadata": {},
   "outputs": [
    {
     "name": "stdout",
     "output_type": "stream",
     "text": [
      "enter no:12\n",
      "12\n"
     ]
    }
   ],
   "source": [
    "set1=input((\"enter no:\"))\n",
    "print(set1)"
   ]
  },
  {
   "cell_type": "code",
   "execution_count": 21,
   "metadata": {},
   "outputs": [
    {
     "name": "stdout",
     "output_type": "stream",
     "text": [
      "{'name': 'john', 'code': 6734, 'dept': 'sales'}\n",
      "dict_keys(['name', 'code', 'dept'])\n",
      "dict_values(['john', 6734, 'sales'])\n"
     ]
    }
   ],
   "source": [
    "\n",
    "tinydict={'name':'john','code':6734,'dept':'sales'}\n",
    "print(tinydict)\n",
    "print(tinydict.keys())\n",
    "print(tinydict.values())"
   ]
  },
  {
   "cell_type": "code",
   "execution_count": 30,
   "metadata": {},
   "outputs": [
    {
     "name": "stdout",
     "output_type": "stream",
     "text": [
      "This is one\n"
     ]
    }
   ],
   "source": [
    "dict={}\n",
    "dict['one']=\"This is one\"\n",
    "print(dict['one'])\n"
   ]
  },
  {
   "cell_type": "code",
   "execution_count": 31,
   "metadata": {},
   "outputs": [
    {
     "name": "stdout",
     "output_type": "stream",
     "text": [
      "{'name': 'tom', 'age': 20, 'height': 160}\n",
      "dictionary after update; {'name': 'tom', 'age': 25, 'height': 160}\n",
      "dictionary after adding new key value pair {'name': 'tom', 'age': 25, 'height': 160, 'weight': 60}\n"
     ]
    }
   ],
   "source": [
    "dict1={'name':'tom','age':20,'height':160}\n",
    "print(dict1)\n",
    "dict1['age']=25\n",
    "print(\"dictionary after update;\", dict1)\n",
    "dict1['weight']=60\n",
    "print(\"dictionary after adding new key value pair\", dict1)"
   ]
  },
  {
   "cell_type": "code",
   "execution_count": 33,
   "metadata": {},
   "outputs": [
    {
     "name": "stdout",
     "output_type": "stream",
     "text": [
      "{'name': 'tom', 'age': 20, 'height': 160}\n",
      "{'name': 'tom', 'height': 160}\n"
     ]
    }
   ],
   "source": [
    "#we can delete the entire dict. dictionary elements or individual elements\n",
    "#we can use del statement to delete the dict the dictionary completely\n",
    "dict1={'name':'tom','age':20,'height':160}\n",
    "print(dict1)\n",
    "del dict1['age']\n",
    "print(dict1)"
   ]
  },
  {
   "cell_type": "code",
   "execution_count": 45,
   "metadata": {},
   "outputs": [
    {
     "name": "stdout",
     "output_type": "stream",
     "text": [
      "enter a number:0\n",
      "the number is zero\n",
      "always printed\n"
     ]
    }
   ],
   "source": [
    "num=int(input(\"enter a number:\"))\n",
    "if num==0:\n",
    "    print(\"the number is \"+\"zero\")\n",
    "print('always printed')    "
   ]
  },
  {
   "cell_type": "code",
   "execution_count": 54,
   "metadata": {},
   "outputs": [
    {
     "name": "stdout",
     "output_type": "stream",
     "text": [
      "enter a number: -10\n",
      "num is negative\n"
     ]
    }
   ],
   "source": [
    "num=int(input(\"enter a number: \"))\n",
    "if num>0:\n",
    "    print(\"num is positive\")\n",
    "elif num==0:\n",
    "    print(\"zero\")\n",
    "else:\n",
    "    print(\"num is negative\")\n"
   ]
  },
  {
   "cell_type": "code",
   "execution_count": 60,
   "metadata": {},
   "outputs": [
    {
     "name": "stdout",
     "output_type": "stream",
     "text": [
      "the sum is:  31\n"
     ]
    }
   ],
   "source": [
    "#syntax for 'for' loop\n",
    "# for item in sequence:\n",
    "#  body of for\n",
    "numbers=[2,4,6,8,10]\n",
    "sum=1\n",
    "for item in numbers:\n",
    "    sum=sum+item\n",
    "print(\"the sum is: \",sum)"
   ]
  },
  {
   "cell_type": "code",
   "execution_count": 63,
   "metadata": {},
   "outputs": [
    {
     "name": "stdout",
     "output_type": "stream",
     "text": [
      "current flower:  rose\n",
      "current flower:  lotus\n",
      "current flower:  jasmine\n"
     ]
    }
   ],
   "source": [
    "flowers=['rose','lotus','jasmine']\n",
    "for flower in flowers:\n",
    "    print(\"current flower: \", flower)"
   ]
  },
  {
   "cell_type": "code",
   "execution_count": 64,
   "metadata": {},
   "outputs": [
    {
     "name": "stdout",
     "output_type": "stream",
     "text": [
      "1\n",
      "2\n",
      "3\n",
      "4\n",
      "5\n"
     ]
    }
   ],
   "source": [
    "#while\n",
    "#while loop in python is used to iterate over a block of cide as \n",
    "i=1\n",
    "while i<6:\n",
    "    print(i)\n",
    "    i+=1"
   ]
  },
  {
   "cell_type": "code",
   "execution_count": 66,
   "metadata": {},
   "outputs": [],
   "source": [
    "#def for defining a function\n",
    "def my_function():\n",
    "    print(\"hello from a function\")"
   ]
  },
  {
   "cell_type": "code",
   "execution_count": 73,
   "metadata": {},
   "outputs": [
    {
     "name": "stdout",
     "output_type": "stream",
     "text": [
      "hello from a function\n"
     ]
    }
   ],
   "source": [
    "#def for defining a function\n",
    "def my_function():\n",
    "    print(\"hello from a function\")\n",
    "    \n",
    "my_function()    "
   ]
  },
  {
   "cell_type": "code",
   "execution_count": 70,
   "metadata": {},
   "outputs": [
    {
     "name": "stdout",
     "output_type": "stream",
     "text": [
      "harshal patil\n",
      "tobias patil\n",
      "linus patil\n"
     ]
    }
   ],
   "source": [
    "def my_function(fname):\n",
    "    fname1=print(fname+\" patil\")\n",
    "    \n",
    "my_function(\"harshal\")\n",
    "my_function(\"tobias\")\n",
    "my_function(\"linus\")"
   ]
  },
  {
   "cell_type": "code",
   "execution_count": null,
   "metadata": {},
   "outputs": [],
   "source": []
  }
 ],
 "metadata": {
  "kernelspec": {
   "display_name": "Python 3",
   "language": "python",
   "name": "python3"
  },
  "language_info": {
   "codemirror_mode": {
    "name": "ipython",
    "version": 3
   },
   "file_extension": ".py",
   "mimetype": "text/x-python",
   "name": "python",
   "nbconvert_exporter": "python",
   "pygments_lexer": "ipython3",
   "version": "3.6.5"
  }
 },
 "nbformat": 4,
 "nbformat_minor": 2
}
