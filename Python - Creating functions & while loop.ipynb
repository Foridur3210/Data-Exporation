{
 "cells": [
  {
   "cell_type": "code",
   "execution_count": 5,
   "metadata": {},
   "outputs": [
    {
     "name": "stdout",
     "output_type": "stream",
     "text": [
      "2\n"
     ]
    }
   ],
   "source": [
    "def sum(x=2,y=3):\n",
    "    s=x+y\n",
    "    return(s)\n",
    "add1=sum(1,1)\n",
    "print(add1)"
   ]
  },
  {
   "cell_type": "code",
   "execution_count": 10,
   "metadata": {},
   "outputs": [
    {
     "name": "stdout",
     "output_type": "stream",
     "text": [
      "enter number-1\n",
      "factorial 1\n"
     ]
    }
   ],
   "source": [
    "def fact(n):\n",
    "    a=1\n",
    "    for count in range (2,n+1):\n",
    "        a=a*count\n",
    "    return(a)\n",
    "x=int(input(\"enter number-\"))\n",
    "f=fact(x)\n",
    "print(\"factorial\",f)"
   ]
  },
  {
   "cell_type": "code",
   "execution_count": 3,
   "metadata": {},
   "outputs": [
    {
     "name": "stdout",
     "output_type": "stream",
     "text": [
      "enter number 31\n",
      "31 is a prime number\n"
     ]
    }
   ],
   "source": [
    "def fact(n):\n",
    "    for x in range(2, n):\n",
    "        if (n % x == 0):\n",
    "            print(n, 'is not prime number.')\n",
    "            break\n",
    "    else:\n",
    "            print(n, 'is a prime number')\n",
    "\n",
    "n=int(input(\"enter number \"))\n",
    "fact(n)\n"
   ]
  },
  {
   "cell_type": "code",
   "execution_count": 13,
   "metadata": {},
   "outputs": [
    {
     "name": "stdout",
     "output_type": "stream",
     "text": [
      "enter number 5\n",
      "5 is odd\n"
     ]
    }
   ],
   "source": [
    "def fact(n):\n",
    "    for x in range(2, n):\n",
    "        if (n % 2 == 0):\n",
    "            print(n, 'is even')\n",
    "            break\n",
    "    else:\n",
    "            print(n, 'is odd')\n",
    "\n",
    "n=int(input(\"enter number \"))\n",
    "fact(n)"
   ]
  },
  {
   "cell_type": "code",
   "execution_count": 14,
   "metadata": {},
   "outputs": [
    {
     "name": "stdout",
     "output_type": "stream",
     "text": [
      "enter 1st number -4\n",
      "enter 2nd number -5\n",
      "9\n",
      "-1\n"
     ]
    }
   ],
   "source": [
    "def opNu():    \n",
    "    x = int( input(\"enter 1st number -\") )\n",
    "    y = int( input(\"enter 2nd number -\") )\n",
    "\n",
    "    sum = x + y\n",
    "    sub = x - y    \n",
    "    return ( sum, sub )\n",
    "    \n",
    "sum, sub = opNu()\n",
    "print( sum )\n",
    "print( sub )\n"
   ]
  },
  {
   "cell_type": "code",
   "execution_count": 15,
   "metadata": {},
   "outputs": [
    {
     "name": "stdout",
     "output_type": "stream",
     "text": [
      "enter 1st number -5\n",
      "enter 2nd number -9\n",
      "[14, -4]\n",
      "14\n",
      "-4\n"
     ]
    }
   ],
   "source": [
    "def opList():    \n",
    "    x = int(input(\"enter 1st number -\"))\n",
    "    y = int(input(\"enter 2nd number -\"))\n",
    "    sum = x + y\n",
    "    sub = x - y    \n",
    "    return [sum, sub]\n",
    "    \n",
    "rlist = opList()\n",
    "print( rlist )\n",
    "\n",
    "for i in range( len(rlist) ):\n",
    "    print(int( rlist[i] ))\n"
   ]
  },
  {
   "cell_type": "code",
   "execution_count": 17,
   "metadata": {},
   "outputs": [
    {
     "name": "stdout",
     "output_type": "stream",
     "text": [
      "square of 0 is 0\n",
      "square of 1 is 1\n",
      "square of 2 is 4\n",
      "square of 3 is 9\n",
      "square of 4 is 16\n",
      "square of 5 is 25\n",
      "square of 6 is 36\n",
      "square of 7 is 49\n",
      "square of 8 is 64\n"
     ]
    }
   ],
   "source": [
    "num = 9\n",
    "count = 0\n",
    "while (count < num) :\n",
    "\tprint ('square of ' + str(count) + ' is ' + str(count ** 2))\n",
    "\tcount += 1\n"
   ]
  },
  {
   "cell_type": "code",
   "execution_count": 18,
   "metadata": {},
   "outputs": [
    {
     "name": "stdout",
     "output_type": "stream",
     "text": [
      "120\n"
     ]
    }
   ],
   "source": [
    "num = 5\n",
    "fact = 1\n",
    "while (num>=1) :\n",
    "    fact = fact*num\n",
    "    num = num - 1\n",
    "print (fact)\n"
   ]
  },
  {
   "cell_type": "code",
   "execution_count": null,
   "metadata": {},
   "outputs": [],
   "source": []
  }
 ],
 "metadata": {
  "kernelspec": {
   "display_name": "Python 3",
   "language": "python",
   "name": "python3"
  },
  "language_info": {
   "codemirror_mode": {
    "name": "ipython",
    "version": 3
   },
   "file_extension": ".py",
   "mimetype": "text/x-python",
   "name": "python",
   "nbconvert_exporter": "python",
   "pygments_lexer": "ipython3",
   "version": "3.6.5"
  }
 },
 "nbformat": 4,
 "nbformat_minor": 2
}
