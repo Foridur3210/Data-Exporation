{
 "cells": [
  {
   "cell_type": "code",
   "execution_count": 1,
   "metadata": {},
   "outputs": [
    {
     "name": "stdout",
     "output_type": "stream",
     "text": [
      "300\n",
      "150\n"
     ]
    }
   ],
   "source": [
    "import funmath as mc\n",
    "print(mc.add(100,200))\n",
    "print(mc.substract(300,150))"
   ]
  },
  {
   "cell_type": "code",
   "execution_count": 26,
   "metadata": {},
   "outputs": [
    {
     "name": "stdout",
     "output_type": "stream",
     "text": [
      "dimensions (15, 3)\n",
      "\n",
      "\n",
      "       product  quantity    cost\n",
      "0      colgate     152.0  2052.0\n",
      "1          rin     250.0  1957.0\n",
      "2  coconut oil     202.0  1629.0\n",
      "3          lux     251.0     NaN\n",
      "4      colgate     193.0  1717.0\n",
      "\n",
      "\n",
      "        product    quantity         cost\n",
      "count        15   14.000000    13.000000\n",
      "unique        4         NaN          NaN\n",
      "top     colgate         NaN          NaN\n",
      "freq          5         NaN          NaN\n",
      "mean        NaN  213.000000  1914.461538\n",
      "std         NaN   41.223593   346.461065\n",
      "min         NaN  131.000000  1318.000000\n",
      "25%         NaN  195.250000  1694.000000\n",
      "50%         NaN  228.500000  1957.000000\n",
      "75%         NaN  246.750000  2140.000000\n",
      "max         NaN  254.000000  2380.000000\n",
      "\n",
      "\n",
      "        product  quantity    cost\n",
      "0       colgate     152.0  2052.0\n",
      "1           rin     250.0  1957.0\n",
      "2   coconut oil     202.0  1629.0\n",
      "3           lux     251.0     NaN\n",
      "4       colgate     193.0  1717.0\n",
      "5           rin     254.0  1318.0\n",
      "6       colgate       NaN  1994.0\n",
      "7   coconut oil     231.0  2362.0\n",
      "8           lux     226.0  1929.0\n",
      "9           rin     131.0     NaN\n",
      "10      colgate     248.0  1694.0\n",
      "11  coconut oil     208.0  2380.0\n",
      "12          lux     243.0  2313.0\n",
      "13      colgate     238.0  2140.0\n",
      "14  coconut oil     155.0  1403.0\n",
      "\n",
      "         product  quantity    cost\n",
      "14  coconut oil     155.0  1403.0\n",
      "2   coconut oil     202.0  1629.0\n",
      "11  coconut oil     208.0  2380.0\n",
      "7   coconut oil     231.0  2362.0\n",
      "0       colgate     152.0  2052.0\n",
      "4       colgate     193.0  1717.0\n",
      "13      colgate     238.0  2140.0\n",
      "10      colgate     248.0  1694.0\n",
      "6       colgate       NaN  1994.0\n",
      "8           lux     226.0  1929.0\n",
      "12          lux     243.0  2313.0\n",
      "3           lux     251.0     NaN\n",
      "9           rin     131.0     NaN\n",
      "1           rin     250.0  1957.0\n",
      "5           rin     254.0  1318.0\n"
     ]
    }
   ],
   "source": [
    "import pandas as pd\n",
    "data=pd.read_csv(\"D:/python/pdsalescst.csv\")\n",
    "dfc=pd.DataFrame(data)\n",
    "print(\"dimensions\",dfc.shape)\n",
    "print(\"\\n\")\n",
    "print(dfc.head())\n",
    "print(\"\\n\")\n",
    "print(dfc.describe(include='all'))\n",
    "print(\"\\n\")\n",
    "print(dfc)\n",
    "spa=dfc.sort_values(by='product',ascending=False)\n",
    "print(\"\\n\",spa)"
   ]
  },
  {
   "cell_type": "code",
   "execution_count": 30,
   "metadata": {},
   "outputs": [
    {
     "name": "stdout",
     "output_type": "stream",
     "text": [
      "   col1  col2  col3  col4  col5  col6  col7  col8  col9  col10\n",
      "1     2    12    22    32    42    52    62    72    82     92\n",
      "2     3    13    23    33    43    53    63    73    83     93\n",
      "3     4    14    24    34    44    54    64    74    84     94\n",
      "\n",
      "\n",
      "   col1  col2\n",
      "2     3    13\n",
      "3     4    14\n",
      "\n",
      "\n"
     ]
    }
   ],
   "source": [
    "import pandas as pd\n",
    "data=pd.read_csv(\"D:/python/coldata.csv\")\n",
    "dfc=pd.DataFrame(data)\n",
    "#print(\"\\n\")\n",
    "df1=dfc.iloc[:,0:2]\n",
    "#print(df1)\n",
    "#print(\"\\n\")\n",
    "df2=dfc.iloc[1:4,:]\n",
    "print(df2)\n",
    "print(\"\\n\")\n",
    "df3=dfc.iloc[2:4,0:2]\n",
    "print(df3)\n",
    "print(\"\\n\")"
   ]
  },
  {
   "cell_type": "code",
   "execution_count": 32,
   "metadata": {},
   "outputs": [
    {
     "name": "stdout",
     "output_type": "stream",
     "text": [
      "   id   fname  age gender\n",
      "0  A1  sanjay   24      m\n",
      "1  A2   vinod   12      m\n",
      "2  A3  bharti   45      f\n",
      "3  A4  saroja   36      f\n",
      "4  A5    ravi   32      m\n",
      "\n",
      "\n",
      "   id   fname    city blood education\n",
      "0  A1    amit    pune     A        UG\n",
      "1  A2   vinod    pune     B        UG\n",
      "2  A3  vinaya  mumbai     O        GR\n",
      "3  A4  saroja    pune     B        GR\n",
      "4  A5    ravi  mumbai     O        GR\n",
      "\n",
      "\n",
      "  id_x   fname  age gender id_y    city blood education\n",
      "0   A2   vinod   12      m   A2    pune     B        UG\n",
      "1   A4  saroja   36      f   A4    pune     B        GR\n",
      "2   A5    ravi   32      m   A5  mumbai     O        GR\n",
      "\n",
      "\n",
      "   id fname_x  age gender fname_y    city blood education\n",
      "0  A1  sanjay   24      m    amit    pune     A        UG\n",
      "1  A2   vinod   12      m   vinod    pune     B        UG\n",
      "2  A3  bharti   45      f  vinaya  mumbai     O        GR\n",
      "3  A4  saroja   36      f  saroja    pune     B        GR\n",
      "4  A5    ravi   32      m    ravi  mumbai     O        GR\n",
      "\n",
      "\n",
      "   id   fname  age gender    city blood education\n",
      "0  A2   vinod   12      m    pune     B        UG\n",
      "1  A4  saroja   36      f    pune     B        GR\n",
      "2  A5    ravi   32      m  mumbai     O        GR\n"
     ]
    }
   ],
   "source": [
    "import pandas as pd\n",
    "f1=pd.read_csv(\"D:/python/fp1.csv\")\n",
    "df1=pd.DataFrame(f1)\n",
    "print(df1)\n",
    "print(\"\\n\")\n",
    "f2=pd.read_csv(\"D:/python/fp2.csv\")\n",
    "df2=pd.DataFrame(f2)\n",
    "print(df2)\n",
    "print(\"\\n\")\n",
    "m11=pd.merge(df1,df2,on='fname')\n",
    "print(m11)\n",
    "print(\"\\n\")\n",
    "m12=pd.merge(df1,df2,on='id')\n",
    "print(m12)\n",
    "print(\"\\n\")\n",
    "m13=pd.merge(df1,df2,on=['id','fname'])\n",
    "print(m13)"
   ]
  }
 ],
 "metadata": {
  "kernelspec": {
   "display_name": "Python 3",
   "language": "python",
   "name": "python3"
  },
  "language_info": {
   "codemirror_mode": {
    "name": "ipython",
    "version": 3
   },
   "file_extension": ".py",
   "mimetype": "text/x-python",
   "name": "python",
   "nbconvert_exporter": "python",
   "pygments_lexer": "ipython3",
   "version": "3.6.5"
  }
 },
 "nbformat": 4,
 "nbformat_minor": 2
}
