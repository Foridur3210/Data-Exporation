{
 "cells": [
  {
   "cell_type": "code",
   "execution_count": 2,
   "metadata": {},
   "outputs": [
    {
     "name": "stdout",
     "output_type": "stream",
     "text": [
      "   0\n",
      "0  1\n",
      "1  2\n",
      "2  3\n",
      "3  4\n",
      "4  5\n"
     ]
    }
   ],
   "source": [
    "import pandas as pd\n",
    "data=[1,2,3,4,5]\n",
    "df=pd.DataFrame(data)\n",
    "print(df)"
   ]
  },
  {
   "cell_type": "code",
   "execution_count": 4,
   "metadata": {},
   "outputs": [
    {
     "name": "stdout",
     "output_type": "stream",
     "text": [
      "        product  quantity\n",
      "0       colgate       151\n",
      "1   coconut oil       271\n",
      "2           rin       132\n",
      "3       colgate       130\n",
      "4           rin       143\n",
      "5   coconut oil       145\n",
      "6           rin       187\n",
      "7       colgate       234\n",
      "8           lux       126\n",
      "9   coconut oil       178\n",
      "10          rin       134\n",
      "11      colgate       134\n",
      "12  coconut oil       167\n",
      "13      colgate       154\n",
      "14          lux       123\n",
      "15          lux       156\n"
     ]
    }
   ],
   "source": [
    "import pandas as pd\n",
    "pdsale=pd.read_csv(\"D:/python/pdsales.csv\")\n",
    "dfsale=pd.DataFrame(pdsale)\n",
    "print(dfsale)"
   ]
  },
  {
   "cell_type": "code",
   "execution_count": 7,
   "metadata": {},
   "outputs": [
    {
     "name": "stdout",
     "output_type": "stream",
     "text": [
      "minimum number - \n",
      " product     coconut oil\n",
      "quantity            123\n",
      "dtype: object\n",
      "\n",
      "\n"
     ]
    }
   ],
   "source": [
    "import pandas as pd\n",
    "pdsale=pd.read_csv(\"D:/python/pdsales.csv\")\n",
    "dfsale=pd.DataFrame(pdsale)\n",
    "#print(dfsale)\n",
    "#calculate minimum number\n",
    "minNum=dfsale.min()\n",
    "print(\"minimum number - \\n\",minNum)\n",
    "print(\"\\n\")"
   ]
  },
  {
   "cell_type": "code",
   "execution_count": 9,
   "metadata": {},
   "outputs": [
    {
     "name": "stdout",
     "output_type": "stream",
     "text": [
      "maximum number - \n",
      " product     rin\n",
      "quantity    271\n",
      "dtype: object\n",
      "\n",
      "\n"
     ]
    }
   ],
   "source": [
    "import pandas as pd\n",
    "pdsale=pd.read_csv(\"D:/python/pdsales.csv\")\n",
    "dfsale=pd.DataFrame(pdsale)\n",
    "#print(dfsale)\n",
    "#calculate maximum number\n",
    "maxNum=dfsale.max()\n",
    "print(\"maximum number - \\n\",maxNum)\n",
    "print(\"\\n\")"
   ]
  },
  {
   "cell_type": "code",
   "execution_count": 19,
   "metadata": {},
   "outputs": [
    {
     "name": "stdout",
     "output_type": "stream",
     "text": [
      "product     rin\n",
      "quantity    271\n",
      "dtype: object\n",
      "\n",
      "\n",
      "product     colgatecoconut oilrincolgaterincoconut oilrinc...\n",
      "quantity                                                 2565\n",
      "dtype: object\n",
      "\n",
      "\n",
      "quantity    40.910828\n",
      "dtype: float64\n",
      "\n",
      "\n",
      "         quantity\n",
      "count   16.000000\n",
      "mean   160.312500\n",
      "std     40.910828\n",
      "min    123.000000\n",
      "25%    133.500000\n",
      "50%    148.000000\n",
      "75%    169.750000\n",
      "max    271.000000\n",
      "\n",
      "\n",
      "        product\n",
      "count        16\n",
      "unique        4\n",
      "top     colgate\n",
      "freq          5\n",
      "\n",
      "\n",
      "(16, 2)\n"
     ]
    }
   ],
   "source": [
    "import pandas as pd\n",
    "pdsale=pd.read_csv(\"D:/python/pdsales.csv\")\n",
    "dfsale=pd.DataFrame(pdsale)\n",
    "#print(dfsale)\n",
    "#calculate maximum number\n",
    "maxNum=dfsale.max()\n",
    "print(maxNum)\n",
    "print('\\n')\n",
    "sumf=dfsale.sum()\n",
    "print(sumf)\n",
    "print('\\n')\n",
    "stdf=dfsale.std()\n",
    "print(stdf)\n",
    "print('\\n')\n",
    "print(dfsale.describe())\n",
    "print('\\n')\n",
    "desobj=dfsale.describe(include=['object'])\n",
    "print(desobj)\n",
    "print('\\n')\n",
    "shape=dfsale.shape\n",
    "print(shape)"
   ]
  },
  {
   "cell_type": "code",
   "execution_count": 27,
   "metadata": {},
   "outputs": [
    {
     "name": "stdout",
     "output_type": "stream",
     "text": [
      "        product  quantity    cost\n",
      "0       colgate     152.0  2052.0\n",
      "1           rin     250.0  1957.0\n",
      "2   coconut oil     202.0  1629.0\n",
      "3           lux     251.0     NaN\n",
      "4       colgate     193.0  1717.0\n",
      "5           rin     254.0  1318.0\n",
      "6       colgate       NaN  1994.0\n",
      "7   coconut oil     231.0  2362.0\n",
      "8           lux     226.0  1929.0\n",
      "9           rin     131.0     NaN\n",
      "10      colgate     248.0  1694.0\n",
      "11  coconut oil     208.0  2380.0\n",
      "12          lux     243.0  2313.0\n",
      "13      colgate     238.0  2140.0\n",
      "14  coconut oil     155.0  1403.0\n",
      "\n",
      "\n",
      "         quantity         cost\n",
      "count   14.000000    13.000000\n",
      "mean   213.000000  1914.461538\n",
      "std     41.223593   346.461065\n",
      "min    131.000000  1318.000000\n",
      "25%    195.250000  1694.000000\n",
      "50%    228.500000  1957.000000\n",
      "75%    246.750000  2140.000000\n",
      "max    254.000000  2380.000000\n",
      "\n",
      "\n",
      "(15, 3)\n",
      "\n",
      "\n",
      "        product\n",
      "count        15\n",
      "unique        4\n",
      "top     colgate\n",
      "freq          5\n"
     ]
    }
   ],
   "source": [
    "import pandas as pd\n",
    "pdsalecst=pd.read_csv(\"D:/python/pdsalescst.csv\")\n",
    "dfsale=pd.DataFrame(pdsalecst)\n",
    "print(dfsale)\n",
    "print('\\n')\n",
    "print(dfsale.describe())\n",
    "print('\\n')\n",
    "shape=dfsale.shape\n",
    "print(shape)\n",
    "print('\\n')\n",
    "desobj=dfsale.describe(include=['object'])\n",
    "print(desobj)"
   ]
  },
  {
   "cell_type": "code",
   "execution_count": null,
   "metadata": {},
   "outputs": [],
   "source": []
  }
 ],
 "metadata": {
  "kernelspec": {
   "display_name": "Python 3",
   "language": "python",
   "name": "python3"
  },
  "language_info": {
   "codemirror_mode": {
    "name": "ipython",
    "version": 3
   },
   "file_extension": ".py",
   "mimetype": "text/x-python",
   "name": "python",
   "nbconvert_exporter": "python",
   "pygments_lexer": "ipython3",
   "version": "3.6.5"
  }
 },
 "nbformat": 4,
 "nbformat_minor": 2
}
