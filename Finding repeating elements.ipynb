{
 "cells": [
  {
   "cell_type": "code",
   "execution_count": 7,
   "metadata": {},
   "outputs": [
    {
     "name": "stdout",
     "output_type": "stream",
     "text": [
      "1,1,1,2\n",
      "Repeating elements are 1 1 1 "
     ]
    }
   ],
   "source": [
    "# Python3 program to Find the two \n",
    "# repeating elements in a given array \n",
    "  \n",
    "def printRepeating(arr, size): \n",
    "  \n",
    "    print(\"Repeating elements are \", \n",
    "                         end = '') \n",
    "    for i in range (0, size): \n",
    "        for j in range (i + 1, size): \n",
    "            if arr[i] == arr[j]: \n",
    "                print(arr[i], end = ' ') \n",
    "      \n",
    "# Driver code \n",
    "arr = [4, 2, 4, 5, 2, 3, 1] \n",
    "arr_size = len(arr) \n",
    "printRepeating(arr, arr_size) "
   ]
  },
  {
   "cell_type": "code",
   "execution_count": null,
   "metadata": {},
   "outputs": [],
   "source": []
  }
 ],
 "metadata": {
  "kernelspec": {
   "display_name": "Python 3",
   "language": "python",
   "name": "python3"
  },
  "language_info": {
   "codemirror_mode": {
    "name": "ipython",
    "version": 3
   },
   "file_extension": ".py",
   "mimetype": "text/x-python",
   "name": "python",
   "nbconvert_exporter": "python",
   "pygments_lexer": "ipython3",
   "version": "3.6.5"
  }
 },
 "nbformat": 4,
 "nbformat_minor": 2
}
